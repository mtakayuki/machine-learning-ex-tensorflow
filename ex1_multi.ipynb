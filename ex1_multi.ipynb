{
 "cells": [
  {
   "cell_type": "code",
   "execution_count": 1,
   "metadata": {
    "collapsed": false
   },
   "outputs": [
    {
     "data": {
      "text/plain": [
       "array([[  2.10400000e+03,   3.00000000e+00,   3.99900000e+05],\n",
       "       [  1.60000000e+03,   3.00000000e+00,   3.29900000e+05],\n",
       "       [  2.40000000e+03,   3.00000000e+00,   3.69000000e+05],\n",
       "       [  1.41600000e+03,   2.00000000e+00,   2.32000000e+05],\n",
       "       [  3.00000000e+03,   4.00000000e+00,   5.39900000e+05],\n",
       "       [  1.98500000e+03,   4.00000000e+00,   2.99900000e+05],\n",
       "       [  1.53400000e+03,   3.00000000e+00,   3.14900000e+05],\n",
       "       [  1.42700000e+03,   3.00000000e+00,   1.98999000e+05],\n",
       "       [  1.38000000e+03,   3.00000000e+00,   2.12000000e+05],\n",
       "       [  1.49400000e+03,   3.00000000e+00,   2.42500000e+05]])"
      ]
     },
     "execution_count": 1,
     "metadata": {},
     "output_type": "execute_result"
    }
   ],
   "source": [
    "import numpy as np\n",
    "\n",
    "data = np.genfromtxt('data/ex1/ex1data2.txt', delimiter=',')\n",
    "input_X = data[:, 0:2].astype(np.float32)\n",
    "input_y = data[:, 2:3].astype(np.float32)\n",
    "\n",
    "data[:10]"
   ]
  },
  {
   "cell_type": "code",
   "execution_count": 2,
   "metadata": {
    "collapsed": false
   },
   "outputs": [],
   "source": [
    "import tensorflow as tf\n",
    "\n",
    "train_X = tf.placeholder(dtype=input_X.dtype, shape=input_X.shape, name='train_X')\n",
    "X = tf.placeholder(tf.float32, shape=[None, 2], name='X')\n",
    "y = tf.placeholder(tf.float32, shape=[None, 1], name='y')\n",
    "\n",
    "with tf.name_scope('normalize_features'):\n",
    "    mean, var = tf.nn.moments(train_X, axes=[0])\n",
    "    mu = tf.Variable(mean, trainable=False, collections=[], name='mu')\n",
    "    sigma = tf.Variable(tf.sqrt(var), trainable=False, collections=[], name='sigma')\n",
    "    norm_X = (X - mu) / sigma"
   ]
  },
  {
   "cell_type": "code",
   "execution_count": 3,
   "metadata": {
    "collapsed": false
   },
   "outputs": [
    {
     "name": "stdout",
     "output_type": "stream",
     "text": [
      "(47, 2) (2,) (2,)\n"
     ]
    }
   ],
   "source": [
    "print(train_X.shape, mean.shape, var.shape)"
   ]
  },
  {
   "cell_type": "code",
   "execution_count": 4,
   "metadata": {
    "collapsed": false
   },
   "outputs": [],
   "source": [
    "weights = tf.Variable(tf.zeros([2, 1]), dtype=tf.float32, name='weights')\n",
    "bias = tf.Variable(tf.zeros([1]), dtype=tf.float32, name='bias')\n",
    "\n",
    "with tf.name_scope('hypothesis'):\n",
    "    h = tf.matmul(norm_X, weights) + bias\n",
    "\n",
    "with tf.name_scope('cost'):\n",
    "    square_delta = tf.square(h - y)\n",
    "    loss = tf.reduce_mean(square_delta) / 2"
   ]
  },
  {
   "cell_type": "code",
   "execution_count": 5,
   "metadata": {
    "collapsed": true
   },
   "outputs": [],
   "source": [
    "alpha = 0.1\n",
    "optimizer = tf.train.GradientDescentOptimizer(alpha)\n",
    "train = optimizer.minimize(loss)"
   ]
  },
  {
   "cell_type": "code",
   "execution_count": 6,
   "metadata": {
    "collapsed": true
   },
   "outputs": [],
   "source": [
    "sess = tf.Session()\n",
    "\n",
    "sess.run([mu.initializer, sigma.initializer], feed_dict={train_X: input_X})\n",
    "init = tf.global_variables_initializer()\n",
    "sess.run(init)"
   ]
  },
  {
   "cell_type": "code",
   "execution_count": 7,
   "metadata": {
    "collapsed": false
   },
   "outputs": [],
   "source": [
    "import os\n",
    "from datetime import datetime\n",
    "\n",
    "def subdir(base='logs'):\n",
    "    return os.path.join(base, datetime.now().strftime('%Y%m%d-%H%M%S'))\n",
    "\n",
    "tf.summary.scalar('loss', loss)\n",
    "merged = tf.summary.merge_all()\n",
    "\n",
    "logdir = 'logs/ex1_multi'\n",
    "writer = tf.summary.FileWriter(subdir(logdir), sess.graph)"
   ]
  },
  {
   "cell_type": "code",
   "execution_count": 8,
   "metadata": {
    "collapsed": false
   },
   "outputs": [],
   "source": [
    "feed_dict = {X: input_X, y: input_y}\n",
    "max_iterations = 400\n",
    "for i in range(max_iterations):\n",
    "    if i % 10 == 0:\n",
    "        summary, _ = sess.run([merged, loss], feed_dict=feed_dict)\n",
    "        writer.add_summary(summary, i)\n",
    "    sess.run(train, feed_dict=feed_dict)"
   ]
  },
  {
   "cell_type": "code",
   "execution_count": 9,
   "metadata": {
    "collapsed": false
   },
   "outputs": [
    {
     "name": "stdout",
     "output_type": "stream",
     "text": [
      "Predicted price of a 1650 sq-ft, 3 br house (using gradient descent): \n",
      " $293081.343750\n",
      "\n"
     ]
    }
   ],
   "source": [
    "def predict(x):\n",
    "    if not hasattr(x, 'reshape'):\n",
    "        x = np.array(x)\n",
    "    x = x.reshape(-1, 2)\n",
    "    return sess.run(h, feed_dict={X: x})\n",
    "\n",
    "price = predict([1650, 3])\n",
    "print('Predicted price of a 1650 sq-ft, 3 br house (using gradient descent):',\n",
    "      '\\n $%f\\n' % price)"
   ]
  },
  {
   "cell_type": "code",
   "execution_count": 10,
   "metadata": {
    "collapsed": true
   },
   "outputs": [],
   "source": [
    "writer.close()"
   ]
  }
 ],
 "metadata": {
  "kernelspec": {
   "display_name": "Python 3",
   "language": "python",
   "name": "python3"
  },
  "language_info": {
   "codemirror_mode": {
    "name": "ipython",
    "version": 3
   },
   "file_extension": ".py",
   "mimetype": "text/x-python",
   "name": "python",
   "nbconvert_exporter": "python",
   "pygments_lexer": "ipython3",
   "version": "3.6.0"
  }
 },
 "nbformat": 4,
 "nbformat_minor": 2
}
